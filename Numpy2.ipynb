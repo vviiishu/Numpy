{
 "cells": [
  {
   "cell_type": "code",
   "execution_count": 1,
   "id": "59bae5e5-d6e6-4668-8e22-69ab8f3797fb",
   "metadata": {},
   "outputs": [],
   "source": [
    "import numpy as np"
   ]
  },
  {
   "cell_type": "code",
   "execution_count": 2,
   "id": "975610bd-6922-4412-b5e0-018ac06e87ea",
   "metadata": {},
   "outputs": [
    {
     "data": {
      "text/plain": [
       "array([[1., 1., 1.],\n",
       "       [1., 1., 1.],\n",
       "       [1., 1., 1.],\n",
       "       [1., 1., 1.]])"
      ]
     },
     "execution_count": 2,
     "metadata": {},
     "output_type": "execute_result"
    }
   ],
   "source": [
    "arr1=np.ones((4,3))\n",
    "arr1"
   ]
  },
  {
   "cell_type": "code",
   "execution_count": 3,
   "id": "9892e411-f2f2-4ca5-bc77-8d5ffb3773bf",
   "metadata": {},
   "outputs": [
    {
     "data": {
      "text/plain": [
       "array([[6., 6., 6.],\n",
       "       [6., 6., 6.],\n",
       "       [6., 6., 6.],\n",
       "       [6., 6., 6.]])"
      ]
     },
     "execution_count": 3,
     "metadata": {},
     "output_type": "execute_result"
    }
   ],
   "source": [
    "arr1 +5"
   ]
  },
  {
   "cell_type": "code",
   "execution_count": 4,
   "id": "21312e57-5763-4a3a-93a3-5897baffdec8",
   "metadata": {},
   "outputs": [
    {
     "data": {
      "text/plain": [
       "array([[2., 2., 2.],\n",
       "       [2., 2., 2.],\n",
       "       [2., 2., 2.],\n",
       "       [2., 2., 2.]])"
      ]
     },
     "execution_count": 4,
     "metadata": {},
     "output_type": "execute_result"
    }
   ],
   "source": [
    "arr1*2"
   ]
  },
  {
   "cell_type": "code",
   "execution_count": 5,
   "id": "b95e2ccf-7900-42cb-9894-dff1fc6779c3",
   "metadata": {},
   "outputs": [
    {
     "data": {
      "text/plain": [
       "array([[1., 1., 1.],\n",
       "       [1., 1., 1.],\n",
       "       [1., 1., 1.],\n",
       "       [1., 1., 1.]])"
      ]
     },
     "execution_count": 5,
     "metadata": {},
     "output_type": "execute_result"
    }
   ],
   "source": [
    "arr1 **2"
   ]
  },
  {
   "cell_type": "code",
   "execution_count": 6,
   "id": "0163ca23-b5b5-40c1-a383-7ecf16740e35",
   "metadata": {},
   "outputs": [
    {
     "data": {
      "text/plain": [
       "array([[1., 0., 0., 0., 0.],\n",
       "       [0., 1., 0., 0., 0.],\n",
       "       [0., 0., 1., 0., 0.]])"
      ]
     },
     "execution_count": 6,
     "metadata": {},
     "output_type": "execute_result"
    }
   ],
   "source": [
    "arr2 = np.eye(3,5)\n",
    "arr2"
   ]
  },
  {
   "cell_type": "code",
   "execution_count": 7,
   "id": "b5c0142a-88fe-4caa-aa43-cbf6eb9222ff",
   "metadata": {},
   "outputs": [
    {
     "data": {
      "text/plain": [
       "array([[1., 1., 1., 0., 0.],\n",
       "       [1., 1., 1., 0., 0.],\n",
       "       [1., 1., 1., 0., 0.],\n",
       "       [1., 1., 1., 0., 0.]])"
      ]
     },
     "execution_count": 7,
     "metadata": {},
     "output_type": "execute_result"
    }
   ],
   "source": [
    "arr1 @ arr2   # matrix multiplication"
   ]
  },
  {
   "cell_type": "code",
   "execution_count": 8,
   "id": "7ae6c6ba-960c-42e0-9b16-ce6660ecc7dc",
   "metadata": {},
   "outputs": [
    {
     "data": {
      "text/plain": [
       "array([[55, 56, 96,  8],\n",
       "       [22, 47, 13,  1],\n",
       "       [35,  4, 94,  7]])"
      ]
     },
     "execution_count": 8,
     "metadata": {},
     "output_type": "execute_result"
    }
   ],
   "source": [
    "arr3 = np.random.randint(1,100,(3,4))\n",
    "arr3"
   ]
  },
  {
   "cell_type": "markdown",
   "id": "3e5d9e05-85e2-46b3-8c87-f6b98ef0c070",
   "metadata": {},
   "source": [
    "##### Numpy data type"
   ]
  },
  {
   "cell_type": "code",
   "execution_count": 9,
   "id": "a9553ffd-19ad-4f73-8520-3bd06265814a",
   "metadata": {},
   "outputs": [
    {
     "data": {
      "text/plain": [
       "2"
      ]
     },
     "execution_count": 9,
     "metadata": {},
     "output_type": "execute_result"
    }
   ],
   "source": [
    "arr3.ndim"
   ]
  },
  {
   "cell_type": "code",
   "execution_count": 10,
   "id": "0b35df6f-e560-4dd8-9842-b8ed326bd1d0",
   "metadata": {},
   "outputs": [
    {
     "data": {
      "text/plain": [
       "12"
      ]
     },
     "execution_count": 10,
     "metadata": {},
     "output_type": "execute_result"
    }
   ],
   "source": [
    "arr3.size"
   ]
  },
  {
   "cell_type": "code",
   "execution_count": 11,
   "id": "0e98f2d1-ec7e-4d46-b31e-f5e7096239b4",
   "metadata": {},
   "outputs": [
    {
     "data": {
      "text/plain": [
       "(3, 4)"
      ]
     },
     "execution_count": 11,
     "metadata": {},
     "output_type": "execute_result"
    }
   ],
   "source": [
    "arr3.shape"
   ]
  },
  {
   "cell_type": "code",
   "execution_count": 12,
   "id": "4fccd9f1-85e6-418c-a41f-3ac437407d55",
   "metadata": {},
   "outputs": [
    {
     "data": {
      "text/plain": [
       "dtype('int64')"
      ]
     },
     "execution_count": 12,
     "metadata": {},
     "output_type": "execute_result"
    }
   ],
   "source": [
    "arr3.dtype"
   ]
  },
  {
   "cell_type": "code",
   "execution_count": 13,
   "id": "1ceae218-a1f5-42d8-95c5-e20d24a956b2",
   "metadata": {},
   "outputs": [
    {
     "data": {
      "text/plain": [
       "array([[55, 22, 35],\n",
       "       [56, 47,  4],\n",
       "       [96, 13, 94],\n",
       "       [ 8,  1,  7]])"
      ]
     },
     "execution_count": 13,
     "metadata": {},
     "output_type": "execute_result"
    }
   ],
   "source": [
    "arr3.T"
   ]
  },
  {
   "cell_type": "code",
   "execution_count": 14,
   "id": "3e0c76b5-7a6f-49df-9f87-9051cdd53e47",
   "metadata": {},
   "outputs": [
    {
     "data": {
      "text/plain": [
       "array([[55, 56],\n",
       "       [96,  8],\n",
       "       [22, 47],\n",
       "       [13,  1],\n",
       "       [35,  4],\n",
       "       [94,  7]])"
      ]
     },
     "execution_count": 14,
     "metadata": {},
     "output_type": "execute_result"
    }
   ],
   "source": [
    "arr3.reshape(6,2)"
   ]
  },
  {
   "cell_type": "code",
   "execution_count": 15,
   "id": "305a21f7-5b93-4069-8c5b-97bb71dc786f",
   "metadata": {},
   "outputs": [
    {
     "data": {
      "text/plain": [
       "array([[55, 56, 96],\n",
       "       [ 8, 22, 47],\n",
       "       [13,  1, 35],\n",
       "       [ 4, 94,  7]])"
      ]
     },
     "execution_count": 15,
     "metadata": {},
     "output_type": "execute_result"
    }
   ],
   "source": [
    "#case when you dont know in reshape what should be the column count\n",
    "\n",
    "arr3.reshape(4, -1)  # here any negative value can be given ; also for row"
   ]
  },
  {
   "cell_type": "markdown",
   "id": "204b7845-8d9b-4129-b930-6162c898e93c",
   "metadata": {},
   "source": [
    "#### Numpy Broadcasting"
   ]
  },
  {
   "cell_type": "code",
   "execution_count": 16,
   "id": "313300f6-014f-4f45-bf20-43086e99c60e",
   "metadata": {},
   "outputs": [
    {
     "data": {
      "text/plain": [
       "array([1, 2, 3, 4])"
      ]
     },
     "execution_count": 16,
     "metadata": {},
     "output_type": "execute_result"
    }
   ],
   "source": [
    "row=np.array([1,2,3,4])\n",
    "row"
   ]
  },
  {
   "cell_type": "code",
   "execution_count": 17,
   "id": "47220c7b-e765-4ab4-acd4-3fb184efc18c",
   "metadata": {},
   "outputs": [
    {
     "data": {
      "text/plain": [
       "array([[56, 58, 99, 12],\n",
       "       [23, 49, 16,  5],\n",
       "       [36,  6, 97, 11]])"
      ]
     },
     "execution_count": 17,
     "metadata": {},
     "output_type": "execute_result"
    }
   ],
   "source": [
    "arr3+row"
   ]
  },
  {
   "cell_type": "code",
   "execution_count": 18,
   "id": "1b36d7ad-2002-476b-93a6-1cd009a20db7",
   "metadata": {},
   "outputs": [
    {
     "data": {
      "text/plain": [
       "array([[2, 4, 6]])"
      ]
     },
     "execution_count": 18,
     "metadata": {},
     "output_type": "execute_result"
    }
   ],
   "source": [
    "arr=np.array([[2,4,6]])\n",
    "arr\n"
   ]
  },
  {
   "cell_type": "code",
   "execution_count": 19,
   "id": "41536bb3-bf9a-488e-97b5-8225a73d2e6e",
   "metadata": {},
   "outputs": [
    {
     "data": {
      "text/plain": [
       "array([[2],\n",
       "       [4],\n",
       "       [6]])"
      ]
     },
     "execution_count": 19,
     "metadata": {},
     "output_type": "execute_result"
    }
   ],
   "source": [
    "col=arr.T\n",
    "col"
   ]
  },
  {
   "cell_type": "code",
   "execution_count": 20,
   "id": "eb9f0b28-f2ab-4680-97d2-e17790a4f9f2",
   "metadata": {},
   "outputs": [
    {
     "data": {
      "text/plain": [
       "array([[ 57,  58,  98,  10],\n",
       "       [ 26,  51,  17,   5],\n",
       "       [ 41,  10, 100,  13]])"
      ]
     },
     "execution_count": 20,
     "metadata": {},
     "output_type": "execute_result"
    }
   ],
   "source": [
    "arr3+col"
   ]
  },
  {
   "cell_type": "markdown",
   "id": "61309810-2e46-4a72-aa5c-9570375a42da",
   "metadata": {},
   "source": [
    "#### Indexing and Slicing"
   ]
  },
  {
   "cell_type": "code",
   "execution_count": 21,
   "id": "d60f147e-1887-41fb-b136-f21eb446a96e",
   "metadata": {},
   "outputs": [
    {
     "data": {
      "text/plain": [
       "array([[55, 56, 96,  8],\n",
       "       [22, 47, 13,  1],\n",
       "       [35,  4, 94,  7]])"
      ]
     },
     "execution_count": 21,
     "metadata": {},
     "output_type": "execute_result"
    }
   ],
   "source": [
    "arr3"
   ]
  },
  {
   "cell_type": "code",
   "execution_count": 22,
   "id": "ac64b758-dae2-4c9f-b049-230b660217be",
   "metadata": {},
   "outputs": [
    {
     "data": {
      "text/plain": [
       "1"
      ]
     },
     "execution_count": 22,
     "metadata": {},
     "output_type": "execute_result"
    }
   ],
   "source": [
    "arr3[1][3]   # 1st box is for row and 2nd one is for col"
   ]
  },
  {
   "cell_type": "code",
   "execution_count": 23,
   "id": "5185b546-a637-4509-ae8b-dce45722a332",
   "metadata": {},
   "outputs": [
    {
     "data": {
      "text/plain": [
       "array([[22, 47, 13]])"
      ]
     },
     "execution_count": 23,
     "metadata": {},
     "output_type": "execute_result"
    }
   ],
   "source": [
    "arr3[1:2,0:3]   "
   ]
  },
  {
   "cell_type": "code",
   "execution_count": 24,
   "id": "f79de44b-cdef-4583-9870-7536e9c18512",
   "metadata": {},
   "outputs": [
    {
     "data": {
      "text/plain": [
       "array([[47, 13],\n",
       "       [ 4, 94]])"
      ]
     },
     "execution_count": 24,
     "metadata": {},
     "output_type": "execute_result"
    }
   ],
   "source": [
    "arr3[1:3,1:3]"
   ]
  },
  {
   "cell_type": "code",
   "execution_count": 25,
   "id": "951f57cf-203d-4182-8c85-300ac9582355",
   "metadata": {},
   "outputs": [
    {
     "data": {
      "text/plain": [
       "array([55, 56, 96, 94])"
      ]
     },
     "execution_count": 25,
     "metadata": {},
     "output_type": "execute_result"
    }
   ],
   "source": [
    "arr3[arr3>50]"
   ]
  },
  {
   "cell_type": "code",
   "execution_count": 28,
   "id": "2dbbc65e-2de8-4f67-a694-82fa7ea30d3e",
   "metadata": {},
   "outputs": [
    {
     "data": {
      "text/plain": [
       "array([[ 4, 11,  4,  8, 18, 16,  7],\n",
       "       [10, 13,  7, 11,  6, 12,  5],\n",
       "       [ 9, 15, 15, 14, 16,  7, 11],\n",
       "       [ 8, 14, 12, 17,  9, 16, 18],\n",
       "       [ 4, 12,  8,  6,  6, 15, 16],\n",
       "       [11, 10, 11, 17, 19,  4,  5]])"
      ]
     },
     "execution_count": 28,
     "metadata": {},
     "output_type": "execute_result"
    }
   ],
   "source": [
    "arr4=np.random.randint(4,20,(6,7))\n",
    "arr4"
   ]
  },
  {
   "cell_type": "code",
   "execution_count": 29,
   "id": "3cc03d70-c9c0-4b64-a6e8-c4304ccad2af",
   "metadata": {},
   "outputs": [
    {
     "data": {
      "text/plain": [
       "array([[15, 15],\n",
       "       [14, 12]])"
      ]
     },
     "execution_count": 29,
     "metadata": {},
     "output_type": "execute_result"
    }
   ],
   "source": [
    "arr4[2:4,1:3]"
   ]
  },
  {
   "cell_type": "code",
   "execution_count": 32,
   "id": "09b97471-6def-4a43-9419-1f493ce56f28",
   "metadata": {},
   "outputs": [
    {
     "data": {
      "text/plain": [
       "15"
      ]
     },
     "execution_count": 32,
     "metadata": {},
     "output_type": "execute_result"
    }
   ],
   "source": [
    "arr4[4][5]"
   ]
  },
  {
   "cell_type": "code",
   "execution_count": 35,
   "id": "bbb7e51d-d906-44e6-977b-86a7817405a9",
   "metadata": {},
   "outputs": [
    {
     "data": {
      "text/plain": [
       "array([[11, 18],\n",
       "       [13,  6],\n",
       "       [15, 16],\n",
       "       [14,  9],\n",
       "       [12,  6]])"
      ]
     },
     "execution_count": 35,
     "metadata": {},
     "output_type": "execute_result"
    }
   ],
   "source": [
    "# o/p needed is 2 and 5 col of size 4\n",
    "arr4[0:5,[1,4]]     # row will give size ,which col is needed >> pass it as a list"
   ]
  },
  {
   "cell_type": "code",
   "execution_count": 37,
   "id": "e98890de-f460-4438-9788-e5e72ee5b22c",
   "metadata": {},
   "outputs": [
    {
     "data": {
      "text/plain": [
       "array([[ 8, 15, 16],\n",
       "       [11,  4,  5]])"
      ]
     },
     "execution_count": 37,
     "metadata": {},
     "output_type": "execute_result"
    }
   ],
   "source": [
    "arr4[4:6,[2,5,6]]"
   ]
  }
 ],
 "metadata": {
  "kernelspec": {
   "display_name": "Python 3 (ipykernel)",
   "language": "python",
   "name": "python3"
  },
  "language_info": {
   "codemirror_mode": {
    "name": "ipython",
    "version": 3
   },
   "file_extension": ".py",
   "mimetype": "text/x-python",
   "name": "python",
   "nbconvert_exporter": "python",
   "pygments_lexer": "ipython3",
   "version": "3.10.8"
  }
 },
 "nbformat": 4,
 "nbformat_minor": 5
}
