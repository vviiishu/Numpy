{
 "cells": [
  {
   "cell_type": "markdown",
   "id": "4bdc9097-a72a-46d5-8cbd-9523949a1d52",
   "metadata": {},
   "source": [
    "#### Numpy Statical func"
   ]
  },
  {
   "cell_type": "code",
   "execution_count": 1,
   "id": "1ed3f0c6-8fcf-4b23-8398-df52e8b9ee62",
   "metadata": {},
   "outputs": [],
   "source": [
    "import numpy as np"
   ]
  },
  {
   "cell_type": "code",
   "execution_count": 2,
   "id": "f60d0c06-11d9-4020-845a-16883e389fd8",
   "metadata": {},
   "outputs": [
    {
     "data": {
      "text/plain": [
       "array([[86, 40, 55, 14],\n",
       "       [ 7, 74,  2, 37],\n",
       "       [69, 97, 76, 94]])"
      ]
     },
     "execution_count": 2,
     "metadata": {},
     "output_type": "execute_result"
    }
   ],
   "source": [
    "arr=np.random.randint(1,100,(3,4))\n",
    "arr"
   ]
  },
  {
   "cell_type": "code",
   "execution_count": 3,
   "id": "92d867c1-36fd-40db-b046-2843f19044b9",
   "metadata": {},
   "outputs": [
    {
     "data": {
      "text/plain": [
       "array([[9.2736185 , 6.32455532, 7.41619849, 3.74165739],\n",
       "       [2.64575131, 8.60232527, 1.41421356, 6.08276253],\n",
       "       [8.30662386, 9.8488578 , 8.71779789, 9.69535971]])"
      ]
     },
     "execution_count": 3,
     "metadata": {},
     "output_type": "execute_result"
    }
   ],
   "source": [
    "np.sqrt(arr)"
   ]
  },
  {
   "cell_type": "code",
   "execution_count": 4,
   "id": "8ae5f133-83bb-49d4-881d-cb843858e26f",
   "metadata": {},
   "outputs": [
    {
     "data": {
      "text/plain": [
       "array([[2.23524660e+37, 2.35385267e+17, 7.69478527e+23, 1.20260428e+06],\n",
       "       [1.09663316e+03, 1.37338298e+32, 7.38905610e+00, 1.17191424e+16],\n",
       "       [9.25378173e+29, 1.33833472e+42, 1.01480039e+33, 6.66317622e+40]])"
      ]
     },
     "execution_count": 4,
     "metadata": {},
     "output_type": "execute_result"
    }
   ],
   "source": [
    "np.exp(arr)"
   ]
  },
  {
   "cell_type": "code",
   "execution_count": 5,
   "id": "82b2f1b6-bfd3-406e-a94b-41793045aeab",
   "metadata": {},
   "outputs": [
    {
     "data": {
      "text/plain": [
       "array([[-0.92345845,  0.74511316, -0.99975517,  0.99060736],\n",
       "       [ 0.6569866 , -0.98514626,  0.90929743, -0.64353813],\n",
       "       [-0.11478481,  0.37960774,  0.56610764, -0.24525199]])"
      ]
     },
     "execution_count": 5,
     "metadata": {},
     "output_type": "execute_result"
    }
   ],
   "source": [
    "np.sin(arr)"
   ]
  },
  {
   "cell_type": "code",
   "execution_count": 6,
   "id": "4514f7b1-1e0d-4adf-834a-269d205b7eaa",
   "metadata": {},
   "outputs": [
    {
     "data": {
      "text/plain": [
       "54.25"
      ]
     },
     "execution_count": 6,
     "metadata": {},
     "output_type": "execute_result"
    }
   ],
   "source": [
    "np.mean(arr)"
   ]
  },
  {
   "cell_type": "markdown",
   "id": "c8afdfd2-cbf3-4382-9cc0-e4efe2e67c62",
   "metadata": {},
   "source": [
    "#### Numpy char func"
   ]
  },
  {
   "cell_type": "code",
   "execution_count": 7,
   "id": "76f6e016-3869-4981-8dad-877f05acd00d",
   "metadata": {},
   "outputs": [
    {
     "data": {
      "text/plain": [
       "array(['vis', 'ash', 'prash'], dtype='<U5')"
      ]
     },
     "execution_count": 7,
     "metadata": {},
     "output_type": "execute_result"
    }
   ],
   "source": [
    "arr1=np.array([\"vis\",\"ash\",\"prash\"])\n",
    "arr1"
   ]
  },
  {
   "cell_type": "code",
   "execution_count": 8,
   "id": "d64895db-1b97-42f9-8265-efd2c199aacc",
   "metadata": {},
   "outputs": [
    {
     "data": {
      "text/plain": [
       "array(['Vis', 'Ash', 'Prash'], dtype='<U5')"
      ]
     },
     "execution_count": 8,
     "metadata": {},
     "output_type": "execute_result"
    }
   ],
   "source": [
    "np.char.capitalize(arr1)"
   ]
  },
  {
   "cell_type": "code",
   "execution_count": 9,
   "id": "8cfb5c69-22aa-40b4-996e-73e10379dab1",
   "metadata": {},
   "outputs": [
    {
     "data": {
      "text/plain": [
       "array(['VIS', 'ASH', 'PRASH'], dtype='<U5')"
      ]
     },
     "execution_count": 9,
     "metadata": {},
     "output_type": "execute_result"
    }
   ],
   "source": [
    "np.char.upper(arr1)"
   ]
  },
  {
   "cell_type": "markdown",
   "id": "15ec2a25-5003-4f72-9cb2-e0b05aba0482",
   "metadata": {},
   "source": [
    "#### Numpy Searching and Sorting func"
   ]
  },
  {
   "cell_type": "code",
   "execution_count": 35,
   "id": "d5aa5bdd-6a30-4ffb-90ad-95a44f64b8ca",
   "metadata": {},
   "outputs": [
    {
     "data": {
      "text/plain": [
       "array([ 2, 15, 12, 85, 93,  4, 54])"
      ]
     },
     "execution_count": 35,
     "metadata": {},
     "output_type": "execute_result"
    }
   ],
   "source": [
    "arr2=np.array([2,15,12,85,93,4,54])\n",
    "arr2"
   ]
  },
  {
   "cell_type": "code",
   "execution_count": 36,
   "id": "fe8a640f-51fe-46d2-b4e1-5c176f9f4527",
   "metadata": {},
   "outputs": [
    {
     "data": {
      "text/plain": [
       "array([ 2,  4, 12, 15, 54, 85, 93])"
      ]
     },
     "execution_count": 36,
     "metadata": {},
     "output_type": "execute_result"
    }
   ],
   "source": [
    "np.sort(arr2)"
   ]
  },
  {
   "cell_type": "code",
   "execution_count": 44,
   "id": "252ecf38-e5b8-4ad2-85d8-529fb0c81332",
   "metadata": {},
   "outputs": [
    {
     "data": {
      "text/plain": [
       "array([85, 93])"
      ]
     },
     "execution_count": 44,
     "metadata": {},
     "output_type": "execute_result"
    }
   ],
   "source": [
    "np.extract(arr2>54,arr2)"
   ]
  },
  {
   "cell_type": "code",
   "execution_count": 46,
   "id": "77801d6c-5fb6-4404-ab2d-ec18c68696ee",
   "metadata": {},
   "outputs": [
    {
     "data": {
      "text/plain": [
       "(array([3, 4, 6]),)"
      ]
     },
     "execution_count": 46,
     "metadata": {},
     "output_type": "execute_result"
    }
   ],
   "source": [
    "np.where(arr2>45)"
   ]
  },
  {
   "cell_type": "code",
   "execution_count": 48,
   "id": "b36b23ca-69c8-4be2-9866-bed0b7b82ea2",
   "metadata": {},
   "outputs": [
    {
     "data": {
      "text/plain": [
       "array([ 4, 54,  2, 15, 12, 85, 93])"
      ]
     },
     "execution_count": 48,
     "metadata": {},
     "output_type": "execute_result"
    }
   ],
   "source": [
    "np.roll(arr2,2)   # shift all element by 2 index"
   ]
  },
  {
   "cell_type": "code",
   "execution_count": 49,
   "id": "b700ab47-ce03-4956-9d1e-e526a8d74a9b",
   "metadata": {},
   "outputs": [
    {
     "data": {
      "text/plain": [
       "array([93,  4, 54,  2, 15, 12, 85])"
      ]
     },
     "execution_count": 49,
     "metadata": {},
     "output_type": "execute_result"
    }
   ],
   "source": [
    "np.roll(arr2,3)   # shift all element by 3 index"
   ]
  },
  {
   "cell_type": "code",
   "execution_count": 50,
   "id": "93c3fc21-bbb8-408a-8cce-8c2ec1d5afef",
   "metadata": {},
   "outputs": [],
   "source": [
    "import numpy.matlib as nm"
   ]
  },
  {
   "cell_type": "code",
   "execution_count": 53,
   "id": "91a3b709-cdba-46a9-b56b-10689d5b5504",
   "metadata": {},
   "outputs": [
    {
     "data": {
      "text/plain": [
       "matrix([[0., 0., 0., 0., 0., 0., 0., 0., 0., 0.],\n",
       "        [0., 0., 0., 0., 0., 0., 0., 0., 0., 0.],\n",
       "        [0., 0., 0., 0., 0., 0., 0., 0., 0., 0.],\n",
       "        [0., 0., 0., 0., 0., 0., 0., 0., 0., 0.]])"
      ]
     },
     "execution_count": 53,
     "metadata": {},
     "output_type": "execute_result"
    }
   ],
   "source": [
    "nm.zeros((4,10))"
   ]
  },
  {
   "cell_type": "code",
   "execution_count": 56,
   "id": "5bd280fb-b8e8-4583-9e34-a12abef3912f",
   "metadata": {},
   "outputs": [
    {
     "data": {
      "text/plain": [
       "matrix([[1., 0., 0., 0.],\n",
       "        [0., 1., 0., 0.],\n",
       "        [0., 0., 1., 0.],\n",
       "        [0., 0., 0., 1.]])"
      ]
     },
     "execution_count": 56,
     "metadata": {},
     "output_type": "execute_result"
    }
   ],
   "source": [
    "nm.eye(4)"
   ]
  },
  {
   "cell_type": "code",
   "execution_count": 57,
   "id": "6f3f7257-b9a8-4a37-9248-154b115451b1",
   "metadata": {},
   "outputs": [
    {
     "data": {
      "text/plain": [
       "array([ 2,  3,  5, 78, 45])"
      ]
     },
     "execution_count": 57,
     "metadata": {},
     "output_type": "execute_result"
    }
   ],
   "source": [
    "nm.array([2,3,5,78,45])"
   ]
  }
 ],
 "metadata": {
  "kernelspec": {
   "display_name": "Python 3 (ipykernel)",
   "language": "python",
   "name": "python3"
  },
  "language_info": {
   "codemirror_mode": {
    "name": "ipython",
    "version": 3
   },
   "file_extension": ".py",
   "mimetype": "text/x-python",
   "name": "python",
   "nbconvert_exporter": "python",
   "pygments_lexer": "ipython3",
   "version": "3.10.8"
  }
 },
 "nbformat": 4,
 "nbformat_minor": 5
}
