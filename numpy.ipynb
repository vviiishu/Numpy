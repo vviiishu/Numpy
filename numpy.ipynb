{
 "cells": [
  {
   "cell_type": "markdown",
   "id": "d00cf4aa-5ab3-45c5-b01f-6de15b37dec4",
   "metadata": {},
   "source": [
    "#### creating array from list,func,iterable,string :\n",
    "#### np.array(l),np.asarray(l),np.matrix(l) : from list\n",
    "#### np.fromfunction(take func)\n",
    "#### np.fromiter(take iterable,data type)\n",
    "#### np.fromstring( \"vi\",\"ash\",sep=\",\")"
   ]
  },
  {
   "cell_type": "markdown",
   "id": "f6467e77-d49a-46bb-9cdb-2d82d1aaac16",
   "metadata": {},
   "source": [
    "#### creating array from diff type of range :\n",
    "#### np.arange(2.3,4.6) ,np.linespace(1,5,10) go from 1 to 5 create 10 div\n",
    "#### np.logspace(2,5,10,base=2),np.zeros(5),np.zeros((2,5)),np.zeros((3,4,2))\n",
    "#### np.ones() simolar to np.zeros  : np.eye() create identity matrix"
   ]
  },
  {
   "cell_type": "markdown",
   "id": "746153ee-98e0-45c8-a314-733951714a5d",
   "metadata": {},
   "source": [
    "#### np.random.randint(1,100,(5,5))"
   ]
  },
  {
   "cell_type": "markdown",
   "id": "db2bc8b2-b929-4bf2-9bf3-cd3a648731de",
   "metadata": {},
   "source": [
    "#### Deep copy and swallow copy"
   ]
  },
  {
   "cell_type": "code",
   "execution_count": 1,
   "id": "6be246f3-a67b-4d35-9c76-992687985055",
   "metadata": {},
   "outputs": [],
   "source": [
    "# Numpy stores the data in an array\n",
    "# An array is a container used to store the data of same data type\n"
   ]
  },
  {
   "cell_type": "code",
   "execution_count": null,
   "id": "c0669e27-e4a3-4a95-81f1-491dcb7b62b1",
   "metadata": {},
   "outputs": [],
   "source": [
    "#why numpy\n",
    "#Computation is fast>> due to array>>>continous memory location\n",
    "#mathematical computation"
   ]
  },
  {
   "cell_type": "code",
   "execution_count": null,
   "id": "0b80fce1-89f9-4d7a-ad38-76d9f5311116",
   "metadata": {},
   "outputs": [],
   "source": [
    "# Matrix >> a matrix is typically represented as a two-dimensional array, and it can be created \n",
    "## using various libraries such as NumPy. NumPy is a popular library in Python for numerical \n",
    "## computations and provides efficient implementations for working with arrays and matrices."
   ]
  },
  {
   "cell_type": "code",
   "execution_count": 2,
   "id": "6e75f788-235a-462e-9296-8a67cc77ffb6",
   "metadata": {},
   "outputs": [],
   "source": [
    "import numpy as np"
   ]
  },
  {
   "cell_type": "code",
   "execution_count": 3,
   "id": "24d9ea9b-9ca5-44c9-8db0-5fc480234078",
   "metadata": {},
   "outputs": [
    {
     "data": {
      "text/plain": [
       "[1, 5, 4, 6]"
      ]
     },
     "execution_count": 3,
     "metadata": {},
     "output_type": "execute_result"
    }
   ],
   "source": [
    "l=[1,5,4,6]\n",
    "l"
   ]
  },
  {
   "cell_type": "code",
   "execution_count": 4,
   "id": "96a841f6-2b64-49e1-9f9e-fa30c43f94ce",
   "metadata": {},
   "outputs": [
    {
     "data": {
      "text/plain": [
       "array([1, 5, 4, 6])"
      ]
     },
     "execution_count": 4,
     "metadata": {},
     "output_type": "execute_result"
    }
   ],
   "source": [
    "arr=np.array(l)\n",
    "arr"
   ]
  },
  {
   "cell_type": "code",
   "execution_count": 5,
   "id": "55a8349d-1ea5-4d37-86bc-4af8a65cb876",
   "metadata": {},
   "outputs": [
    {
     "data": {
      "text/plain": [
       "numpy.ndarray"
      ]
     },
     "execution_count": 5,
     "metadata": {},
     "output_type": "execute_result"
    }
   ],
   "source": [
    "type(arr)"
   ]
  },
  {
   "cell_type": "code",
   "execution_count": 6,
   "id": "4e940af0-53a8-4206-9b9c-400b56d9fd28",
   "metadata": {},
   "outputs": [
    {
     "data": {
      "text/plain": [
       "array([2, 6, 5])"
      ]
     },
     "execution_count": 6,
     "metadata": {},
     "output_type": "execute_result"
    }
   ],
   "source": [
    "np.array([2,6,5])"
   ]
  },
  {
   "cell_type": "code",
   "execution_count": 7,
   "id": "9ae7d32c-bf53-4603-8ef6-9a480550a65e",
   "metadata": {},
   "outputs": [
    {
     "data": {
      "text/plain": [
       "array([[1, 2, 4],\n",
       "       [8, 6, 8]])"
      ]
     },
     "execution_count": 7,
     "metadata": {},
     "output_type": "execute_result"
    }
   ],
   "source": [
    "a=np.array([[1,2,4],[8,6,8]])\n",
    "a"
   ]
  },
  {
   "cell_type": "code",
   "execution_count": 8,
   "id": "36b6a8f5-efdb-4201-b886-028fe4ec2506",
   "metadata": {},
   "outputs": [
    {
     "data": {
      "text/plain": [
       "numpy.ndarray"
      ]
     },
     "execution_count": 8,
     "metadata": {},
     "output_type": "execute_result"
    }
   ],
   "source": [
    "type(a)"
   ]
  },
  {
   "cell_type": "code",
   "execution_count": 9,
   "id": "06838bdd-ab44-44df-8961-a94856819536",
   "metadata": {},
   "outputs": [
    {
     "data": {
      "text/plain": [
       "matrix([[1, 5, 4, 6]])"
      ]
     },
     "execution_count": 9,
     "metadata": {},
     "output_type": "execute_result"
    }
   ],
   "source": [
    "b=np.matrix(l)    # matrix is subset of array\n",
    "b"
   ]
  },
  {
   "cell_type": "code",
   "execution_count": 10,
   "id": "f532f11f-fcfc-4d70-b543-cd249ec08aaf",
   "metadata": {},
   "outputs": [
    {
     "data": {
      "text/plain": [
       "numpy.matrix"
      ]
     },
     "execution_count": 10,
     "metadata": {},
     "output_type": "execute_result"
    }
   ],
   "source": [
    "type(b)"
   ]
  },
  {
   "cell_type": "code",
   "execution_count": 11,
   "id": "de598287-3e85-4621-93b8-186e6c4bb979",
   "metadata": {},
   "outputs": [],
   "source": [
    "l1=[5,6,8]"
   ]
  },
  {
   "cell_type": "code",
   "execution_count": 12,
   "id": "9264736f-f1a2-432c-9236-9df162bff7ae",
   "metadata": {},
   "outputs": [
    {
     "data": {
      "text/plain": [
       "array([5, 6, 8])"
      ]
     },
     "execution_count": 12,
     "metadata": {},
     "output_type": "execute_result"
    }
   ],
   "source": [
    "d=np.array(l1)\n",
    "d"
   ]
  },
  {
   "cell_type": "code",
   "execution_count": 13,
   "id": "6831d0ca-3ed7-4583-a12a-fd52584804dd",
   "metadata": {},
   "outputs": [],
   "source": [
    "e=d     #swallow copy means changes will reflect"
   ]
  },
  {
   "cell_type": "code",
   "execution_count": 14,
   "id": "00d57af7-b178-4f39-8771-3f514897a0a3",
   "metadata": {},
   "outputs": [
    {
     "data": {
      "text/plain": [
       "array([5, 6, 8])"
      ]
     },
     "execution_count": 14,
     "metadata": {},
     "output_type": "execute_result"
    }
   ],
   "source": [
    "e"
   ]
  },
  {
   "cell_type": "code",
   "execution_count": 15,
   "id": "2dc1e92c-ad90-4440-b182-572c7de121d1",
   "metadata": {},
   "outputs": [
    {
     "data": {
      "text/plain": [
       "array([456,   6,   8])"
      ]
     },
     "execution_count": 15,
     "metadata": {},
     "output_type": "execute_result"
    }
   ],
   "source": [
    "d[0]=456\n",
    "d"
   ]
  },
  {
   "cell_type": "code",
   "execution_count": 16,
   "id": "3ea87d06-31c6-4ae2-a27d-7d173cdffcd8",
   "metadata": {},
   "outputs": [
    {
     "data": {
      "text/plain": [
       "array([456,   6,   8])"
      ]
     },
     "execution_count": 16,
     "metadata": {},
     "output_type": "execute_result"
    }
   ],
   "source": [
    "e"
   ]
  },
  {
   "cell_type": "code",
   "execution_count": 17,
   "id": "62547d8d-6ee9-40fd-9237-6c878b9d574b",
   "metadata": {},
   "outputs": [
    {
     "data": {
      "text/plain": [
       "array([456,   6,   8])"
      ]
     },
     "execution_count": 17,
     "metadata": {},
     "output_type": "execute_result"
    }
   ],
   "source": [
    "d=np.copy(e)   #deep copy any changes does not affect array\n",
    "d"
   ]
  },
  {
   "cell_type": "code",
   "execution_count": 18,
   "id": "9b55ba90-e537-4822-b2f5-8335be041d26",
   "metadata": {},
   "outputs": [
    {
     "data": {
      "text/plain": [
       "array([456,   6,   8])"
      ]
     },
     "execution_count": 18,
     "metadata": {},
     "output_type": "execute_result"
    }
   ],
   "source": [
    "e"
   ]
  },
  {
   "cell_type": "code",
   "execution_count": 19,
   "id": "606a7cfa-e585-4116-829a-a3c2cc12b482",
   "metadata": {},
   "outputs": [],
   "source": [
    "e[0]=999"
   ]
  },
  {
   "cell_type": "code",
   "execution_count": 20,
   "id": "bc9a79e9-c515-4629-a05b-15c535f03a52",
   "metadata": {},
   "outputs": [
    {
     "data": {
      "text/plain": [
       "array([999,   6,   8])"
      ]
     },
     "execution_count": 20,
     "metadata": {},
     "output_type": "execute_result"
    }
   ],
   "source": [
    "e"
   ]
  },
  {
   "cell_type": "code",
   "execution_count": 21,
   "id": "2054a646-9285-4225-8b01-a819fb6e1d81",
   "metadata": {},
   "outputs": [
    {
     "data": {
      "text/plain": [
       "array([456,   6,   8])"
      ]
     },
     "execution_count": 21,
     "metadata": {},
     "output_type": "execute_result"
    }
   ],
   "source": [
    "d"
   ]
  },
  {
   "cell_type": "code",
   "execution_count": 22,
   "id": "028cb7e8-da07-4c44-bde0-49b328af57b9",
   "metadata": {},
   "outputs": [],
   "source": [
    "#some functions in numpy"
   ]
  },
  {
   "cell_type": "code",
   "execution_count": 23,
   "id": "2ba86089-f090-44a3-8ae3-7543589719c3",
   "metadata": {},
   "outputs": [
    {
     "data": {
      "text/plain": [
       "array([[0., 1., 2.],\n",
       "       [1., 2., 3.],\n",
       "       [2., 3., 4.]])"
      ]
     },
     "execution_count": 23,
     "metadata": {},
     "output_type": "execute_result"
    }
   ],
   "source": [
    "np.fromfunction(lambda i,j:i+j,(3,3))"
   ]
  },
  {
   "cell_type": "code",
   "execution_count": 24,
   "id": "2b067479-3376-4b5f-ab71-7150bf19e2fc",
   "metadata": {},
   "outputs": [
    {
     "data": {
      "text/plain": [
       "array([[0., 0., 0.],\n",
       "       [0., 1., 2.],\n",
       "       [0., 2., 4.],\n",
       "       [0., 3., 6.]])"
      ]
     },
     "execution_count": 24,
     "metadata": {},
     "output_type": "execute_result"
    }
   ],
   "source": [
    "np.fromfunction(lambda i,j:i*j,(4,3))"
   ]
  },
  {
   "cell_type": "code",
   "execution_count": 25,
   "id": "4733eb65-fb30-4962-9182-551d014aa383",
   "metadata": {},
   "outputs": [],
   "source": [
    "l3=[6,5,8]"
   ]
  },
  {
   "cell_type": "code",
   "execution_count": 26,
   "id": "02909868-7430-46af-a094-9553c5e167c6",
   "metadata": {},
   "outputs": [
    {
     "data": {
      "text/plain": [
       "array([6, 5, 8])"
      ]
     },
     "execution_count": 26,
     "metadata": {},
     "output_type": "execute_result"
    }
   ],
   "source": [
    "np.fromiter(l3,int)"
   ]
  },
  {
   "cell_type": "code",
   "execution_count": 27,
   "id": "321261dc-86a9-49d2-b8fb-128c94329358",
   "metadata": {},
   "outputs": [
    {
     "data": {
      "text/plain": [
       "<generator object <genexpr> at 0x7f29d42285f0>"
      ]
     },
     "execution_count": 27,
     "metadata": {},
     "output_type": "execute_result"
    }
   ],
   "source": [
    "iter=(i+i for i in range(5))\n",
    "iter"
   ]
  },
  {
   "cell_type": "code",
   "execution_count": 28,
   "id": "ab58d0a1-d783-4d6a-b36a-a39b161ccab3",
   "metadata": {},
   "outputs": [
    {
     "data": {
      "text/plain": [
       "array([0, 2, 4, 6, 8])"
      ]
     },
     "execution_count": 28,
     "metadata": {},
     "output_type": "execute_result"
    }
   ],
   "source": [
    "np.fromiter(iter,int)"
   ]
  },
  {
   "cell_type": "code",
   "execution_count": 29,
   "id": "3bc990db-d234-43b4-88b8-5f99f4154231",
   "metadata": {},
   "outputs": [
    {
     "data": {
      "text/plain": [
       "array([4., 5.])"
      ]
     },
     "execution_count": 29,
     "metadata": {},
     "output_type": "execute_result"
    }
   ],
   "source": [
    "np.fromstring('4,5' ,sep=',')"
   ]
  },
  {
   "cell_type": "code",
   "execution_count": 30,
   "id": "27ad55a2-7a4c-48e2-bb91-36eb50d0ecd3",
   "metadata": {},
   "outputs": [
    {
     "data": {
      "text/plain": [
       "range(0, 4)"
      ]
     },
     "execution_count": 30,
     "metadata": {},
     "output_type": "execute_result"
    }
   ],
   "source": [
    "range(4)"
   ]
  },
  {
   "cell_type": "code",
   "execution_count": 31,
   "id": "656c16b6-7f16-4bff-a4e4-081eaa6aac2a",
   "metadata": {},
   "outputs": [
    {
     "data": {
      "text/plain": [
       "[0, 1, 2, 3]"
      ]
     },
     "execution_count": 31,
     "metadata": {},
     "output_type": "execute_result"
    }
   ],
   "source": [
    "list(range(4))"
   ]
  },
  {
   "cell_type": "code",
   "execution_count": 32,
   "id": "0b996f00-9eca-41f4-bbd4-c91938d96416",
   "metadata": {},
   "outputs": [
    {
     "data": {
      "text/plain": [
       "[2, 3, 4, 5, 6, 7, 8, 9]"
      ]
     },
     "execution_count": 32,
     "metadata": {},
     "output_type": "execute_result"
    }
   ],
   "source": [
    "list(range(2,10))"
   ]
  },
  {
   "cell_type": "code",
   "execution_count": 33,
   "id": "8c62c270-b740-4ba4-bfa0-3331eaf60d45",
   "metadata": {},
   "outputs": [
    {
     "data": {
      "text/plain": [
       "array([0, 1, 2, 3, 4, 5, 6, 7, 8, 9])"
      ]
     },
     "execution_count": 33,
     "metadata": {},
     "output_type": "execute_result"
    }
   ],
   "source": [
    "np.arange(0,10)"
   ]
  },
  {
   "cell_type": "code",
   "execution_count": 34,
   "id": "db6e345b-708d-405e-b6da-df9e138613a8",
   "metadata": {},
   "outputs": [
    {
     "data": {
      "text/plain": [
       "array([3.5, 4.5, 5.5, 6.5, 7.5, 8.5, 9.5])"
      ]
     },
     "execution_count": 34,
     "metadata": {},
     "output_type": "execute_result"
    }
   ],
   "source": [
    "np.arange(3.5,10)"
   ]
  },
  {
   "cell_type": "code",
   "execution_count": 35,
   "id": "698b766b-623b-4488-91bf-d7b50acd1606",
   "metadata": {},
   "outputs": [
    {
     "data": {
      "text/plain": [
       "array([1.        , 1.44444444, 1.88888889, 2.33333333, 2.77777778,\n",
       "       3.22222222, 3.66666667, 4.11111111, 4.55555556, 5.        ])"
      ]
     },
     "execution_count": 35,
     "metadata": {},
     "output_type": "execute_result"
    }
   ],
   "source": [
    "np.linspace(1,5,10)   #line taken from 1 to 5 and\n",
    "                      #broken into 10 equal spaces"
   ]
  },
  {
   "cell_type": "code",
   "execution_count": 36,
   "id": "21f28bd6-a113-4e5e-bb78-0fb1cb9fd7eb",
   "metadata": {},
   "outputs": [
    {
     "data": {
      "text/plain": [
       "array([0., 0., 0., 0., 0.])"
      ]
     },
     "execution_count": 36,
     "metadata": {},
     "output_type": "execute_result"
    }
   ],
   "source": [
    "np.zeros(5)  #1d array"
   ]
  },
  {
   "cell_type": "code",
   "execution_count": 37,
   "id": "d01bea28-f504-415a-9340-b64f662474b7",
   "metadata": {},
   "outputs": [
    {
     "data": {
      "text/plain": [
       "array([[0., 0., 0., 0.],\n",
       "       [0., 0., 0., 0.],\n",
       "       [0., 0., 0., 0.]])"
      ]
     },
     "execution_count": 37,
     "metadata": {},
     "output_type": "execute_result"
    }
   ],
   "source": [
    "np.zeros(  (3,4)  )  #created a 2d array of 3 coss 4"
   ]
  },
  {
   "cell_type": "code",
   "execution_count": 38,
   "id": "b738651d-4e08-44a9-8323-45aa34239448",
   "metadata": {},
   "outputs": [
    {
     "data": {
      "text/plain": [
       "array([[[0., 0.],\n",
       "        [0., 0.],\n",
       "        [0., 0.],\n",
       "        [0., 0.]],\n",
       "\n",
       "       [[0., 0.],\n",
       "        [0., 0.],\n",
       "        [0., 0.],\n",
       "        [0., 0.]],\n",
       "\n",
       "       [[0., 0.],\n",
       "        [0., 0.],\n",
       "        [0., 0.],\n",
       "        [0., 0.]]])"
      ]
     },
     "execution_count": 38,
     "metadata": {},
     "output_type": "execute_result"
    }
   ],
   "source": [
    "np.zeros((3,4,2))   # created 3 arrays of 4 cross 2 3d zrray as three parameter is passed so dim is 3"
   ]
  },
  {
   "cell_type": "code",
   "execution_count": 39,
   "id": "dd74d0a0-8544-411d-a87b-07cf2318ce3c",
   "metadata": {},
   "outputs": [
    {
     "data": {
      "text/plain": [
       "array([[[[0., 0., 0.],\n",
       "         [0., 0., 0.]],\n",
       "\n",
       "        [[0., 0., 0.],\n",
       "         [0., 0., 0.]],\n",
       "\n",
       "        [[0., 0., 0.],\n",
       "         [0., 0., 0.]],\n",
       "\n",
       "        [[0., 0., 0.],\n",
       "         [0., 0., 0.]]],\n",
       "\n",
       "\n",
       "       [[[0., 0., 0.],\n",
       "         [0., 0., 0.]],\n",
       "\n",
       "        [[0., 0., 0.],\n",
       "         [0., 0., 0.]],\n",
       "\n",
       "        [[0., 0., 0.],\n",
       "         [0., 0., 0.]],\n",
       "\n",
       "        [[0., 0., 0.],\n",
       "         [0., 0., 0.]]],\n",
       "\n",
       "\n",
       "       [[[0., 0., 0.],\n",
       "         [0., 0., 0.]],\n",
       "\n",
       "        [[0., 0., 0.],\n",
       "         [0., 0., 0.]],\n",
       "\n",
       "        [[0., 0., 0.],\n",
       "         [0., 0., 0.]],\n",
       "\n",
       "        [[0., 0., 0.],\n",
       "         [0., 0., 0.]]]])"
      ]
     },
     "execution_count": 39,
     "metadata": {},
     "output_type": "execute_result"
    }
   ],
   "source": [
    "np.zeros((3,4,2,3)) #created 12 arrays of 2 cross 3\n",
    "                    #4d arrays"
   ]
  },
  {
   "cell_type": "code",
   "execution_count": 40,
   "id": "45f7b61c-a440-4e10-882f-e9490bdab3f2",
   "metadata": {},
   "outputs": [
    {
     "data": {
      "text/plain": [
       "array([[[[0., 0., 0.],\n",
       "         [0., 0., 0.]],\n",
       "\n",
       "        [[0., 0., 0.],\n",
       "         [0., 0., 0.]],\n",
       "\n",
       "        [[0., 0., 0.],\n",
       "         [0., 0., 0.]]],\n",
       "\n",
       "\n",
       "       [[[0., 0., 0.],\n",
       "         [0., 0., 0.]],\n",
       "\n",
       "        [[0., 0., 0.],\n",
       "         [0., 0., 0.]],\n",
       "\n",
       "        [[0., 0., 0.],\n",
       "         [0., 0., 0.]]]])"
      ]
     },
     "execution_count": 40,
     "metadata": {},
     "output_type": "execute_result"
    }
   ],
   "source": [
    "np.zeros((2,3,2,3)) \n",
    "#created 6 arrays of 2 cross 3"
   ]
  },
  {
   "cell_type": "code",
   "execution_count": 41,
   "id": "13d58d31-9d22-45e5-be88-69cb2723c893",
   "metadata": {},
   "outputs": [
    {
     "data": {
      "text/plain": [
       "array([1., 1., 1., 1.])"
      ]
     },
     "execution_count": 41,
     "metadata": {},
     "output_type": "execute_result"
    }
   ],
   "source": [
    "np.ones(4)"
   ]
  },
  {
   "cell_type": "code",
   "execution_count": 42,
   "id": "2b8fbc80-3888-4399-8fe7-26e3a7aeab1e",
   "metadata": {},
   "outputs": [
    {
     "data": {
      "text/plain": [
       "array([[1., 1., 1.],\n",
       "       [1., 1., 1.],\n",
       "       [1., 1., 1.],\n",
       "       [1., 1., 1.]])"
      ]
     },
     "execution_count": 42,
     "metadata": {},
     "output_type": "execute_result"
    }
   ],
   "source": [
    "arr1=np.ones((4,3))\n",
    "arr1"
   ]
  },
  {
   "cell_type": "code",
   "execution_count": 43,
   "id": "c668dc4b-4fba-4dfd-812f-4418a28e11df",
   "metadata": {},
   "outputs": [],
   "source": [
    "import pandas as pd"
   ]
  },
  {
   "cell_type": "code",
   "execution_count": 44,
   "id": "46951fb8-732e-4965-8ef4-b173cb55db25",
   "metadata": {},
   "outputs": [
    {
     "data": {
      "text/html": [
       "<div>\n",
       "<style scoped>\n",
       "    .dataframe tbody tr th:only-of-type {\n",
       "        vertical-align: middle;\n",
       "    }\n",
       "\n",
       "    .dataframe tbody tr th {\n",
       "        vertical-align: top;\n",
       "    }\n",
       "\n",
       "    .dataframe thead th {\n",
       "        text-align: right;\n",
       "    }\n",
       "</style>\n",
       "<table border=\"1\" class=\"dataframe\">\n",
       "  <thead>\n",
       "    <tr style=\"text-align: right;\">\n",
       "      <th></th>\n",
       "      <th>0</th>\n",
       "      <th>1</th>\n",
       "      <th>2</th>\n",
       "    </tr>\n",
       "  </thead>\n",
       "  <tbody>\n",
       "    <tr>\n",
       "      <th>0</th>\n",
       "      <td>1.0</td>\n",
       "      <td>1.0</td>\n",
       "      <td>1.0</td>\n",
       "    </tr>\n",
       "    <tr>\n",
       "      <th>1</th>\n",
       "      <td>1.0</td>\n",
       "      <td>1.0</td>\n",
       "      <td>1.0</td>\n",
       "    </tr>\n",
       "    <tr>\n",
       "      <th>2</th>\n",
       "      <td>1.0</td>\n",
       "      <td>1.0</td>\n",
       "      <td>1.0</td>\n",
       "    </tr>\n",
       "    <tr>\n",
       "      <th>3</th>\n",
       "      <td>1.0</td>\n",
       "      <td>1.0</td>\n",
       "      <td>1.0</td>\n",
       "    </tr>\n",
       "  </tbody>\n",
       "</table>\n",
       "</div>"
      ],
      "text/plain": [
       "     0    1    2\n",
       "0  1.0  1.0  1.0\n",
       "1  1.0  1.0  1.0\n",
       "2  1.0  1.0  1.0\n",
       "3  1.0  1.0  1.0"
      ]
     },
     "execution_count": 44,
     "metadata": {},
     "output_type": "execute_result"
    }
   ],
   "source": [
    "df=pd.DataFrame(arr1)\n",
    "df"
   ]
  },
  {
   "cell_type": "code",
   "execution_count": 48,
   "id": "fadfe1fc-38c8-49c9-9fed-7f603c31421d",
   "metadata": {},
   "outputs": [],
   "source": [
    "df.to_excel(\"saved array as df.xlsx\")"
   ]
  }
 ],
 "metadata": {
  "kernelspec": {
   "display_name": "Python 3 (ipykernel)",
   "language": "python",
   "name": "python3"
  },
  "language_info": {
   "codemirror_mode": {
    "name": "ipython",
    "version": 3
   },
   "file_extension": ".py",
   "mimetype": "text/x-python",
   "name": "python",
   "nbconvert_exporter": "python",
   "pygments_lexer": "ipython3",
   "version": "3.10.8"
  }
 },
 "nbformat": 4,
 "nbformat_minor": 5
}
